{
  "nbformat": 4,
  "nbformat_minor": 0,
  "metadata": {
    "colab": {
      "provenance": []
    },
    "kernelspec": {
      "name": "python3",
      "display_name": "Python 3"
    },
    "language_info": {
      "name": "python"
    }
  },
  "cells": [
    {
      "cell_type": "markdown",
      "source": [
        "Para o Desafio da DIO baixei arquivo CSV no Site da ANEEL no Link: https://dadosabertos.aneel.gov.br/dataset/interrupcoes-de-energia-eletrica-nas-redes-de-distribuicao\n",
        "\n",
        "Minha idéia era mostrar o número de interrupções de energia no ano de 2023 assunto que tomou conta do noticiário esta semana de 22/08/2023. O arquivo por ser bastante grande acabei editando para poder usá-lo do desafio."
      ],
      "metadata": {
        "id": "f14dhL1_tQYn"
      }
    },
    {
      "cell_type": "code",
      "execution_count": 1,
      "metadata": {
        "id": "C9GK9Zb29Wtc"
      },
      "outputs": [],
      "source": [
        "import pandas as pd"
      ]
    },
    {
      "cell_type": "code",
      "source": [
        "#Lendo csv\n",
        "df = pd.read_csv('resumo-interrupcoes-energia-eletrica-2023.csv', encoding='latin-1')\n",
        "print(df)"
      ],
      "metadata": {
        "colab": {
          "base_uri": "https://localhost:8080/"
        },
        "id": "_fFsE2resyjF",
        "outputId": "4bb1c4d3-4c6f-4d13-f406-86f70f4b04b6"
      },
      "execution_count": 2,
      "outputs": [
        {
          "output_type": "stream",
          "name": "stdout",
          "text": [
            "        DatGeracaoConjuntoDados DscConjuntoUnidadeConsumidora  \\\n",
            "0                    10/08/2023             Franca 3-Diamante   \n",
            "1                    10/08/2023                Porto Nacional   \n",
            "2                    10/08/2023          ARAGUAINA NAO URBANO   \n",
            "3                    10/08/2023               UHE ISAMU IKEDA   \n",
            "4                    10/08/2023                  Sao Manoel 1   \n",
            "...                         ...                           ...   \n",
            "1048552              10/08/2023                 ITABUNA II 13   \n",
            "1048553              10/08/2023                 ITABUNA II 13   \n",
            "1048554              10/08/2023        FEIRA DE SANTANA II 13   \n",
            "1048555              10/08/2023                 ITABUNA II 13   \n",
            "1048556              10/08/2023                  EUNAPOLIS 13   \n",
            "\n",
            "        DatInicioInterrupcao DatFimInterrupcao  NumAno  \\\n",
            "0           01/01/2023 00:00  01/01/2023 10:11    2023   \n",
            "1           01/01/2023 00:01  02/01/2023 12:19    2023   \n",
            "2           01/01/2023 00:01  31/01/2023 23:59    2023   \n",
            "3           01/01/2023 00:01  20/01/2023 09:12    2023   \n",
            "4           01/01/2023 00:03  01/01/2023 01:36    2023   \n",
            "...                      ...               ...     ...   \n",
            "1048552     30/06/2023 12:43  30/06/2023 23:45    2023   \n",
            "1048553     30/06/2023 15:02  30/06/2023 21:08    2023   \n",
            "1048554     30/06/2023 17:31  30/06/2023 19:11    2023   \n",
            "1048555     30/06/2023 17:56  01/07/2023 12:25    2023   \n",
            "1048556     30/06/2023 18:10  30/06/2023 19:24    2023   \n",
            "\n",
            "                                         NomAgenteRegulado  \\\n",
            "0                        COMPANHIA PAULISTA DE FORÇA E LUZ   \n",
            "1         ENERGISA TOCANTINS DISTRIBUIDORA DE ENERGIA S.A.   \n",
            "2         ENERGISA TOCANTINS DISTRIBUIDORA DE ENERGIA S.A.   \n",
            "3         ENERGISA TOCANTINS DISTRIBUIDORA DE ENERGIA S.A.   \n",
            "4                        COMPANHIA PAULISTA DE FORÇA E LUZ   \n",
            "...                                                    ...   \n",
            "1048552  COMPANHIA DE ELETRICIDADE DO ESTADO DA BAHIA C...   \n",
            "1048553  COMPANHIA DE ELETRICIDADE DO ESTADO DA BAHIA C...   \n",
            "1048554  COMPANHIA DE ELETRICIDADE DO ESTADO DA BAHIA C...   \n",
            "1048555  COMPANHIA DE ELETRICIDADE DO ESTADO DA BAHIA C...   \n",
            "1048556  COMPANHIA DE ELETRICIDADE DO ESTADO DA BAHIA C...   \n",
            "\n",
            "                    SigAgente  \n",
            "0        CPFL-PAULISTA         \n",
            "1        ETO                   \n",
            "2        ETO                   \n",
            "3        ETO                   \n",
            "4        CPFL-PAULISTA         \n",
            "...                       ...  \n",
            "1048552  COELBA                \n",
            "1048553  COELBA                \n",
            "1048554  COELBA                \n",
            "1048555  COELBA                \n",
            "1048556  COELBA                \n",
            "\n",
            "[1048557 rows x 7 columns]\n"
          ]
        }
      ]
    },
    {
      "cell_type": "code",
      "source": [
        "#Vendo o cabeçalho\n",
        "df.head()"
      ],
      "metadata": {
        "colab": {
          "base_uri": "https://localhost:8080/",
          "height": 293
        },
        "id": "UyPrRqQ0WAN8",
        "outputId": "61e560a6-2aa1-4c2f-e900-b8e88b14bfab"
      },
      "execution_count": 3,
      "outputs": [
        {
          "output_type": "execute_result",
          "data": {
            "text/plain": [
              "  DatGeracaoConjuntoDados DscConjuntoUnidadeConsumidora DatInicioInterrupcao  \\\n",
              "0              10/08/2023             Franca 3-Diamante     01/01/2023 00:00   \n",
              "1              10/08/2023                Porto Nacional     01/01/2023 00:01   \n",
              "2              10/08/2023          ARAGUAINA NAO URBANO     01/01/2023 00:01   \n",
              "3              10/08/2023               UHE ISAMU IKEDA     01/01/2023 00:01   \n",
              "4              10/08/2023                  Sao Manoel 1     01/01/2023 00:03   \n",
              "\n",
              "  DatFimInterrupcao  NumAno                                 NomAgenteRegulado  \\\n",
              "0  01/01/2023 10:11    2023                 COMPANHIA PAULISTA DE FORÇA E LUZ   \n",
              "1  02/01/2023 12:19    2023  ENERGISA TOCANTINS DISTRIBUIDORA DE ENERGIA S.A.   \n",
              "2  31/01/2023 23:59    2023  ENERGISA TOCANTINS DISTRIBUIDORA DE ENERGIA S.A.   \n",
              "3  20/01/2023 09:12    2023  ENERGISA TOCANTINS DISTRIBUIDORA DE ENERGIA S.A.   \n",
              "4  01/01/2023 01:36    2023                 COMPANHIA PAULISTA DE FORÇA E LUZ   \n",
              "\n",
              "              SigAgente  \n",
              "0  CPFL-PAULISTA         \n",
              "1  ETO                   \n",
              "2  ETO                   \n",
              "3  ETO                   \n",
              "4  CPFL-PAULISTA         "
            ],
            "text/html": [
              "\n",
              "  <div id=\"df-10ac64a7-1423-4aa3-8cd6-2776a213ef8f\" class=\"colab-df-container\">\n",
              "    <div>\n",
              "<style scoped>\n",
              "    .dataframe tbody tr th:only-of-type {\n",
              "        vertical-align: middle;\n",
              "    }\n",
              "\n",
              "    .dataframe tbody tr th {\n",
              "        vertical-align: top;\n",
              "    }\n",
              "\n",
              "    .dataframe thead th {\n",
              "        text-align: right;\n",
              "    }\n",
              "</style>\n",
              "<table border=\"1\" class=\"dataframe\">\n",
              "  <thead>\n",
              "    <tr style=\"text-align: right;\">\n",
              "      <th></th>\n",
              "      <th>DatGeracaoConjuntoDados</th>\n",
              "      <th>DscConjuntoUnidadeConsumidora</th>\n",
              "      <th>DatInicioInterrupcao</th>\n",
              "      <th>DatFimInterrupcao</th>\n",
              "      <th>NumAno</th>\n",
              "      <th>NomAgenteRegulado</th>\n",
              "      <th>SigAgente</th>\n",
              "    </tr>\n",
              "  </thead>\n",
              "  <tbody>\n",
              "    <tr>\n",
              "      <th>0</th>\n",
              "      <td>10/08/2023</td>\n",
              "      <td>Franca 3-Diamante</td>\n",
              "      <td>01/01/2023 00:00</td>\n",
              "      <td>01/01/2023 10:11</td>\n",
              "      <td>2023</td>\n",
              "      <td>COMPANHIA PAULISTA DE FORÇA E LUZ</td>\n",
              "      <td>CPFL-PAULISTA</td>\n",
              "    </tr>\n",
              "    <tr>\n",
              "      <th>1</th>\n",
              "      <td>10/08/2023</td>\n",
              "      <td>Porto Nacional</td>\n",
              "      <td>01/01/2023 00:01</td>\n",
              "      <td>02/01/2023 12:19</td>\n",
              "      <td>2023</td>\n",
              "      <td>ENERGISA TOCANTINS DISTRIBUIDORA DE ENERGIA S.A.</td>\n",
              "      <td>ETO</td>\n",
              "    </tr>\n",
              "    <tr>\n",
              "      <th>2</th>\n",
              "      <td>10/08/2023</td>\n",
              "      <td>ARAGUAINA NAO URBANO</td>\n",
              "      <td>01/01/2023 00:01</td>\n",
              "      <td>31/01/2023 23:59</td>\n",
              "      <td>2023</td>\n",
              "      <td>ENERGISA TOCANTINS DISTRIBUIDORA DE ENERGIA S.A.</td>\n",
              "      <td>ETO</td>\n",
              "    </tr>\n",
              "    <tr>\n",
              "      <th>3</th>\n",
              "      <td>10/08/2023</td>\n",
              "      <td>UHE ISAMU IKEDA</td>\n",
              "      <td>01/01/2023 00:01</td>\n",
              "      <td>20/01/2023 09:12</td>\n",
              "      <td>2023</td>\n",
              "      <td>ENERGISA TOCANTINS DISTRIBUIDORA DE ENERGIA S.A.</td>\n",
              "      <td>ETO</td>\n",
              "    </tr>\n",
              "    <tr>\n",
              "      <th>4</th>\n",
              "      <td>10/08/2023</td>\n",
              "      <td>Sao Manoel 1</td>\n",
              "      <td>01/01/2023 00:03</td>\n",
              "      <td>01/01/2023 01:36</td>\n",
              "      <td>2023</td>\n",
              "      <td>COMPANHIA PAULISTA DE FORÇA E LUZ</td>\n",
              "      <td>CPFL-PAULISTA</td>\n",
              "    </tr>\n",
              "  </tbody>\n",
              "</table>\n",
              "</div>\n",
              "    <div class=\"colab-df-buttons\">\n",
              "\n",
              "  <div class=\"colab-df-container\">\n",
              "    <button class=\"colab-df-convert\" onclick=\"convertToInteractive('df-10ac64a7-1423-4aa3-8cd6-2776a213ef8f')\"\n",
              "            title=\"Convert this dataframe to an interactive table.\"\n",
              "            style=\"display:none;\">\n",
              "\n",
              "  <svg xmlns=\"http://www.w3.org/2000/svg\" height=\"24px\" viewBox=\"0 -960 960 960\">\n",
              "    <path d=\"M120-120v-720h720v720H120Zm60-500h600v-160H180v160Zm220 220h160v-160H400v160Zm0 220h160v-160H400v160ZM180-400h160v-160H180v160Zm440 0h160v-160H620v160ZM180-180h160v-160H180v160Zm440 0h160v-160H620v160Z\"/>\n",
              "  </svg>\n",
              "    </button>\n",
              "\n",
              "  <style>\n",
              "    .colab-df-container {\n",
              "      display:flex;\n",
              "      gap: 12px;\n",
              "    }\n",
              "\n",
              "    .colab-df-convert {\n",
              "      background-color: #E8F0FE;\n",
              "      border: none;\n",
              "      border-radius: 50%;\n",
              "      cursor: pointer;\n",
              "      display: none;\n",
              "      fill: #1967D2;\n",
              "      height: 32px;\n",
              "      padding: 0 0 0 0;\n",
              "      width: 32px;\n",
              "    }\n",
              "\n",
              "    .colab-df-convert:hover {\n",
              "      background-color: #E2EBFA;\n",
              "      box-shadow: 0px 1px 2px rgba(60, 64, 67, 0.3), 0px 1px 3px 1px rgba(60, 64, 67, 0.15);\n",
              "      fill: #174EA6;\n",
              "    }\n",
              "\n",
              "    .colab-df-buttons div {\n",
              "      margin-bottom: 4px;\n",
              "    }\n",
              "\n",
              "    [theme=dark] .colab-df-convert {\n",
              "      background-color: #3B4455;\n",
              "      fill: #D2E3FC;\n",
              "    }\n",
              "\n",
              "    [theme=dark] .colab-df-convert:hover {\n",
              "      background-color: #434B5C;\n",
              "      box-shadow: 0px 1px 3px 1px rgba(0, 0, 0, 0.15);\n",
              "      filter: drop-shadow(0px 1px 2px rgba(0, 0, 0, 0.3));\n",
              "      fill: #FFFFFF;\n",
              "    }\n",
              "  </style>\n",
              "\n",
              "    <script>\n",
              "      const buttonEl =\n",
              "        document.querySelector('#df-10ac64a7-1423-4aa3-8cd6-2776a213ef8f button.colab-df-convert');\n",
              "      buttonEl.style.display =\n",
              "        google.colab.kernel.accessAllowed ? 'block' : 'none';\n",
              "\n",
              "      async function convertToInteractive(key) {\n",
              "        const element = document.querySelector('#df-10ac64a7-1423-4aa3-8cd6-2776a213ef8f');\n",
              "        const dataTable =\n",
              "          await google.colab.kernel.invokeFunction('convertToInteractive',\n",
              "                                                    [key], {});\n",
              "        if (!dataTable) return;\n",
              "\n",
              "        const docLinkHtml = 'Like what you see? Visit the ' +\n",
              "          '<a target=\"_blank\" href=https://colab.research.google.com/notebooks/data_table.ipynb>data table notebook</a>'\n",
              "          + ' to learn more about interactive tables.';\n",
              "        element.innerHTML = '';\n",
              "        dataTable['output_type'] = 'display_data';\n",
              "        await google.colab.output.renderOutput(dataTable, element);\n",
              "        const docLink = document.createElement('div');\n",
              "        docLink.innerHTML = docLinkHtml;\n",
              "        element.appendChild(docLink);\n",
              "      }\n",
              "    </script>\n",
              "  </div>\n",
              "\n",
              "\n",
              "<div id=\"df-cff7b486-c20f-4ab3-9381-8faf32101438\">\n",
              "  <button class=\"colab-df-quickchart\" onclick=\"quickchart('df-cff7b486-c20f-4ab3-9381-8faf32101438')\"\n",
              "            title=\"Suggest charts.\"\n",
              "            style=\"display:none;\">\n",
              "\n",
              "<svg xmlns=\"http://www.w3.org/2000/svg\" height=\"24px\"viewBox=\"0 0 24 24\"\n",
              "     width=\"24px\">\n",
              "    <g>\n",
              "        <path d=\"M19 3H5c-1.1 0-2 .9-2 2v14c0 1.1.9 2 2 2h14c1.1 0 2-.9 2-2V5c0-1.1-.9-2-2-2zM9 17H7v-7h2v7zm4 0h-2V7h2v10zm4 0h-2v-4h2v4z\"/>\n",
              "    </g>\n",
              "</svg>\n",
              "  </button>\n",
              "\n",
              "<style>\n",
              "  .colab-df-quickchart {\n",
              "    background-color: #E8F0FE;\n",
              "    border: none;\n",
              "    border-radius: 50%;\n",
              "    cursor: pointer;\n",
              "    display: none;\n",
              "    fill: #1967D2;\n",
              "    height: 32px;\n",
              "    padding: 0 0 0 0;\n",
              "    width: 32px;\n",
              "  }\n",
              "\n",
              "  .colab-df-quickchart:hover {\n",
              "    background-color: #E2EBFA;\n",
              "    box-shadow: 0px 1px 2px rgba(60, 64, 67, 0.3), 0px 1px 3px 1px rgba(60, 64, 67, 0.15);\n",
              "    fill: #174EA6;\n",
              "  }\n",
              "\n",
              "  [theme=dark] .colab-df-quickchart {\n",
              "    background-color: #3B4455;\n",
              "    fill: #D2E3FC;\n",
              "  }\n",
              "\n",
              "  [theme=dark] .colab-df-quickchart:hover {\n",
              "    background-color: #434B5C;\n",
              "    box-shadow: 0px 1px 3px 1px rgba(0, 0, 0, 0.15);\n",
              "    filter: drop-shadow(0px 1px 2px rgba(0, 0, 0, 0.3));\n",
              "    fill: #FFFFFF;\n",
              "  }\n",
              "</style>\n",
              "\n",
              "  <script>\n",
              "    async function quickchart(key) {\n",
              "      const charts = await google.colab.kernel.invokeFunction(\n",
              "          'suggestCharts', [key], {});\n",
              "    }\n",
              "    (() => {\n",
              "      let quickchartButtonEl =\n",
              "        document.querySelector('#df-cff7b486-c20f-4ab3-9381-8faf32101438 button');\n",
              "      quickchartButtonEl.style.display =\n",
              "        google.colab.kernel.accessAllowed ? 'block' : 'none';\n",
              "    })();\n",
              "  </script>\n",
              "</div>\n",
              "    </div>\n",
              "  </div>\n"
            ]
          },
          "metadata": {},
          "execution_count": 3
        }
      ]
    },
    {
      "cell_type": "code",
      "source": [
        "#Número das interrupções de energia por mês\n",
        "df['DatGeracaoConjuntoDados'].count"
      ],
      "metadata": {
        "colab": {
          "base_uri": "https://localhost:8080/"
        },
        "id": "4F7ZK5QEY4JP",
        "outputId": "e330750c-4be6-40a2-b33a-4cd151f87d8a"
      },
      "execution_count": 4,
      "outputs": [
        {
          "output_type": "execute_result",
          "data": {
            "text/plain": [
              "<bound method Series.count of 0          10/08/2023\n",
              "1          10/08/2023\n",
              "2          10/08/2023\n",
              "3          10/08/2023\n",
              "4          10/08/2023\n",
              "              ...    \n",
              "1048552    10/08/2023\n",
              "1048553    10/08/2023\n",
              "1048554    10/08/2023\n",
              "1048555    10/08/2023\n",
              "1048556    10/08/2023\n",
              "Name: DatGeracaoConjuntoDados, Length: 1048557, dtype: object>"
            ]
          },
          "metadata": {},
          "execution_count": 4
        }
      ]
    },
    {
      "cell_type": "code",
      "source": [
        "# Vendo tipo de dados das colunas\n",
        "df.dtypes"
      ],
      "metadata": {
        "colab": {
          "base_uri": "https://localhost:8080/"
        },
        "id": "8L4R_3wazAuF",
        "outputId": "57f3cf7e-c52b-433c-8083-f272f2692060"
      },
      "execution_count": 5,
      "outputs": [
        {
          "output_type": "execute_result",
          "data": {
            "text/plain": [
              "DatGeracaoConjuntoDados          object\n",
              "DscConjuntoUnidadeConsumidora    object\n",
              "DatInicioInterrupcao             object\n",
              "DatFimInterrupcao                object\n",
              "NumAno                            int64\n",
              "NomAgenteRegulado                object\n",
              "SigAgente                        object\n",
              "dtype: object"
            ]
          },
          "metadata": {},
          "execution_count": 5
        }
      ]
    },
    {
      "cell_type": "code",
      "source": [
        "# Mudando tipo de dados das colunas de tempo e data\n",
        "df[\"DatFimInterrupcao\"] = pd.to_datetime(df[\"DatFimInterrupcao\"])\n",
        "df[\"DatInicioInterrupcao\"] = pd.to_datetime(df[\"DatInicioInterrupcao\"])"
      ],
      "metadata": {
        "id": "4zdSsMPvzT1t"
      },
      "execution_count": 6,
      "outputs": []
    },
    {
      "cell_type": "code",
      "source": [
        "# Calculando o tempo de InterrupçãoTempoInterrupcao\n",
        "df['TempoInterrupcao'] = df['DatFimInterrupcao'].sub(df['DatInicioInterrupcao'])"
      ],
      "metadata": {
        "id": "hlnPz9wNyLqY"
      },
      "execution_count": 33,
      "outputs": []
    },
    {
      "cell_type": "code",
      "source": [
        "#Agrupando por mês\n",
        "agrupado = df.groupby(df['DatInicioInterrupcao'].dt.month)['TempoInterrupcao'].sum()\n",
        "agrupado"
      ],
      "metadata": {
        "colab": {
          "base_uri": "https://localhost:8080/"
        },
        "id": "u0CHwlNF5Y5E",
        "outputId": "a3b46ff0-41e6-4e32-be8c-f1ce169a2ac4"
      },
      "execution_count": 32,
      "outputs": [
        {
          "output_type": "execute_result",
          "data": {
            "text/plain": [
              "DatInicioInterrupcao\n",
              "1    -96821 days +19:03:52.580896768\n",
              "2      19105 days 21:39:26.290448384\n",
              "3      43390 days 01:57:26.290448384\n",
              "4    -44714 days +21:50:26.290448384\n",
              "5    -53518 days +18:04:26.290448384\n",
              "6    -52920 days +14:36:26.290448384\n",
              "7      64708 days 06:15:26.290448384\n",
              "8      63345 days 12:57:26.290448384\n",
              "9      53931 days 11:01:26.290448384\n",
              "10     34852 days 22:16:26.290448384\n",
              "11               52968 days 11:26:00\n",
              "12     51029 days 16:19:03.385964544\n",
              "Name: TempoInterrupcao, dtype: timedelta64[ns]"
            ]
          },
          "metadata": {},
          "execution_count": 32
        }
      ]
    }
  ]
}